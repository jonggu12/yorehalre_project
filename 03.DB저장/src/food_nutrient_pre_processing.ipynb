{
 "cells": [
  {
   "cell_type": "code",
   "execution_count": 30,
   "metadata": {},
   "outputs": [
    {
     "data": {
      "text/html": [
       "<div>\n",
       "<style scoped>\n",
       "    .dataframe tbody tr th:only-of-type {\n",
       "        vertical-align: middle;\n",
       "    }\n",
       "\n",
       "    .dataframe tbody tr th {\n",
       "        vertical-align: top;\n",
       "    }\n",
       "\n",
       "    .dataframe thead th {\n",
       "        text-align: right;\n",
       "    }\n",
       "</style>\n",
       "<table border=\"1\" class=\"dataframe\">\n",
       "  <thead>\n",
       "    <tr style=\"text-align: right;\">\n",
       "      <th></th>\n",
       "      <th>식품명</th>\n",
       "      <th>1회제공량</th>\n",
       "      <th>에너지(㎉)</th>\n",
       "      <th>에너지(kj)</th>\n",
       "      <th>수분(g)</th>\n",
       "      <th>수분(%)</th>\n",
       "      <th>단백질(g)</th>\n",
       "      <th>지방(g)</th>\n",
       "      <th>탄수화물(g)</th>\n",
       "      <th>총당류(g)</th>\n",
       "      <th>...</th>\n",
       "      <th>도코사디에노산(22:2)(㎎)</th>\n",
       "      <th>도코사펜타에노산(22:5(n-3))(g)</th>\n",
       "      <th>도코사펜타에노산(22:5(n-3))(㎎)</th>\n",
       "      <th>도코사헥사에노산(22:6(n-3))(g)</th>\n",
       "      <th>도코사헥사에노산(22:6(n-3))(㎎)</th>\n",
       "      <th>도코사헥사에노산(22:6(n-3))(%)</th>\n",
       "      <th>EPA와 DHA의 합(㎎)</th>\n",
       "      <th>오메가 3 지방산(g)</th>\n",
       "      <th>오메가 6 지방산(g)</th>\n",
       "      <th>트랜스 지방산(g)</th>\n",
       "    </tr>\n",
       "  </thead>\n",
       "  <tbody>\n",
       "    <tr>\n",
       "      <th>0</th>\n",
       "      <td>닭갈비</td>\n",
       "      <td>400</td>\n",
       "      <td>595.61</td>\n",
       "      <td>-</td>\n",
       "      <td>276.4</td>\n",
       "      <td>-</td>\n",
       "      <td>45.9</td>\n",
       "      <td>25.8</td>\n",
       "      <td>44.9</td>\n",
       "      <td>21.2</td>\n",
       "      <td>...</td>\n",
       "      <td>-</td>\n",
       "      <td>0.016</td>\n",
       "      <td>-</td>\n",
       "      <td>0.01</td>\n",
       "      <td>-</td>\n",
       "      <td>-</td>\n",
       "      <td>-</td>\n",
       "      <td>-</td>\n",
       "      <td>-</td>\n",
       "      <td>0.2</td>\n",
       "    </tr>\n",
       "    <tr>\n",
       "      <th>1</th>\n",
       "      <td>쌀국수</td>\n",
       "      <td>600</td>\n",
       "      <td>320.32</td>\n",
       "      <td>-</td>\n",
       "      <td>520.4</td>\n",
       "      <td>-</td>\n",
       "      <td>15.6</td>\n",
       "      <td>4.2</td>\n",
       "      <td>55.1</td>\n",
       "      <td>4.3</td>\n",
       "      <td>...</td>\n",
       "      <td>-</td>\n",
       "      <td>0</td>\n",
       "      <td>-</td>\n",
       "      <td>0</td>\n",
       "      <td>-</td>\n",
       "      <td>-</td>\n",
       "      <td>-</td>\n",
       "      <td>-</td>\n",
       "      <td>-</td>\n",
       "      <td>0.1</td>\n",
       "    </tr>\n",
       "    <tr>\n",
       "      <th>2</th>\n",
       "      <td>돼지고기볶음</td>\n",
       "      <td>200</td>\n",
       "      <td>350.673</td>\n",
       "      <td>-</td>\n",
       "      <td>134.172</td>\n",
       "      <td>-</td>\n",
       "      <td>22.961</td>\n",
       "      <td>20.665</td>\n",
       "      <td>18.21</td>\n",
       "      <td>8.201</td>\n",
       "      <td>...</td>\n",
       "      <td>-</td>\n",
       "      <td>0</td>\n",
       "      <td>-</td>\n",
       "      <td>0</td>\n",
       "      <td>-</td>\n",
       "      <td>-</td>\n",
       "      <td>-</td>\n",
       "      <td>-</td>\n",
       "      <td>-</td>\n",
       "      <td>0.151</td>\n",
       "    </tr>\n",
       "    <tr>\n",
       "      <th>3</th>\n",
       "      <td>김치찌개</td>\n",
       "      <td>400</td>\n",
       "      <td>243.032</td>\n",
       "      <td>-</td>\n",
       "      <td>351.45</td>\n",
       "      <td>-</td>\n",
       "      <td>15.069</td>\n",
       "      <td>15.005</td>\n",
       "      <td>11.929</td>\n",
       "      <td>3.025</td>\n",
       "      <td>...</td>\n",
       "      <td>-</td>\n",
       "      <td>0</td>\n",
       "      <td>-</td>\n",
       "      <td>0</td>\n",
       "      <td>-</td>\n",
       "      <td>-</td>\n",
       "      <td>-</td>\n",
       "      <td>-</td>\n",
       "      <td>-</td>\n",
       "      <td>0.03</td>\n",
       "    </tr>\n",
       "    <tr>\n",
       "      <th>4</th>\n",
       "      <td>양념치킨</td>\n",
       "      <td>200</td>\n",
       "      <td>552</td>\n",
       "      <td>-</td>\n",
       "      <td>92.1</td>\n",
       "      <td>-</td>\n",
       "      <td>35.5</td>\n",
       "      <td>26.8</td>\n",
       "      <td>42.3</td>\n",
       "      <td>12.5</td>\n",
       "      <td>...</td>\n",
       "      <td>-</td>\n",
       "      <td>0</td>\n",
       "      <td>-</td>\n",
       "      <td>0</td>\n",
       "      <td>-</td>\n",
       "      <td>-</td>\n",
       "      <td>-</td>\n",
       "      <td>-</td>\n",
       "      <td>-</td>\n",
       "      <td>0.2</td>\n",
       "    </tr>\n",
       "  </tbody>\n",
       "</table>\n",
       "<p>5 rows × 205 columns</p>\n",
       "</div>"
      ],
      "text/plain": [
       "      식품명  1회제공량   에너지(㎉) 에너지(kj)    수분(g) 수분(%)  단백질(g)   지방(g) 탄수화물(g)  \\\n",
       "0     닭갈비    400   595.61       -    276.4     -    45.9    25.8    44.9   \n",
       "1     쌀국수    600   320.32       -    520.4     -    15.6     4.2    55.1   \n",
       "2  돼지고기볶음    200  350.673       -  134.172     -  22.961  20.665   18.21   \n",
       "3    김치찌개    400  243.032       -   351.45     -  15.069  15.005  11.929   \n",
       "4    양념치킨    200      552       -     92.1     -    35.5    26.8    42.3   \n",
       "\n",
       "  총당류(g)  ... 도코사디에노산(22:2)(㎎) 도코사펜타에노산(22:5(n-3))(g) 도코사펜타에노산(22:5(n-3))(㎎)  \\\n",
       "0   21.2  ...                -                  0.016                      -   \n",
       "1    4.3  ...                -                      0                      -   \n",
       "2  8.201  ...                -                      0                      -   \n",
       "3  3.025  ...                -                      0                      -   \n",
       "4   12.5  ...                -                      0                      -   \n",
       "\n",
       "  도코사헥사에노산(22:6(n-3))(g) 도코사헥사에노산(22:6(n-3))(㎎) 도코사헥사에노산(22:6(n-3))(%)  \\\n",
       "0                   0.01                      -                      -   \n",
       "1                      0                      -                      -   \n",
       "2                      0                      -                      -   \n",
       "3                      0                      -                      -   \n",
       "4                      0                      -                      -   \n",
       "\n",
       "  EPA와 DHA의 합(㎎) 오메가 3 지방산(g) 오메가 6 지방산(g) 트랜스 지방산(g)  \n",
       "0              -            -            -        0.2  \n",
       "1              -            -            -        0.1  \n",
       "2              -            -            -      0.151  \n",
       "3              -            -            -       0.03  \n",
       "4              -            -            -        0.2  \n",
       "\n",
       "[5 rows x 205 columns]"
      ]
     },
     "execution_count": 30,
     "metadata": {},
     "output_type": "execute_result"
    }
   ],
   "source": [
    "import pandas as pd\n",
    "\n",
    "df = pd.read_excel('../test/food.xlsx')\n",
    "df.head(5)"
   ]
  },
  {
   "cell_type": "code",
   "execution_count": 31,
   "metadata": {},
   "outputs": [],
   "source": [
    "data = df.copy()\n",
    "data.loc[data['식품명'] == '달걀, 삶은것', '식품명'] = '삶은 달걀'\n",
    "data.loc[data['식품명'] == '사골만두국', '식품명'] = '만두국'\n",
    "data.loc[data['식품명'] == '소고기, 미국산, 안심(안심살), 구운것', '식품명'] = '쇠고기 구이'\n",
    "data.loc[data['식품명'] == '미역줄기나물', '식품명'] = '미역나물'\n",
    "data.loc[data['식품명'] == '연어, 소금첨가, 구운것', '식품명'] = '연어구이'\n",
    "data.loc[data['식품명'] == '마늘보쌈세트', '식품명'] = '보쌈'\n",
    "data.loc[data['식품명'] == '귀리, 오트밀', '식품명'] = '오트밀'\n",
    "data.loc[data['식품명'] == '간장게장', '식품명'] = '게장'\n",
    "data.loc[data['식품명'] == '호박부침개', '식품명'] = '부침개'\n",
    "data.loc[data['식품명'] == '동원 순 닭가슴살', '식품명'] = '닭가슴살'\n",
    "data.loc[data['식품명'] == '고구마, 찐것', '식품명'] = '군고구마'\n",
    "data.loc[data['식품명'] == '오리고기구이', '식품명'] = '오리로스구이'\n",
    "data.loc[data['식품명'] == '달걀프라이', '식품명'] = '달걀 후라이'\n",
    "data.loc[data['식품명'] == '제육볶음', '식품명'] = '돼지고기 고추장 불고기'\n",
    "data.loc[data['식품명'] == '양념장어구이', '식품명'] = '장어구이'\n",
    "data.loc[data['식품명'] == '햄샌드위치', '식품명'] = '샌드위치'\n",
    "data.loc[data['식품명'] == '햇반', '식품명'] = '쌀밥'\n",
    "data.loc[data['식품명'] == '양배추, 찐것'] = '양배추 쌈'"
   ]
  },
  {
   "cell_type": "code",
   "execution_count": 32,
   "metadata": {},
   "outputs": [],
   "source": [
    "data = data.replace({'-':0})"
   ]
  },
  {
   "cell_type": "code",
   "execution_count": 33,
   "metadata": {},
   "outputs": [],
   "source": [
    "start_index = data.columns.get_loc('1회제공량')\n",
    "for col in data.columns[start_index:]:\n",
    "    data[col] = pd.to_numeric(data[col], errors='coerce')"
   ]
  },
  {
   "cell_type": "code",
   "execution_count": 34,
   "metadata": {},
   "outputs": [
    {
     "data": {
      "text/plain": [
       "9097.01"
      ]
     },
     "execution_count": 34,
     "metadata": {},
     "output_type": "execute_result"
    }
   ],
   "source": [
    "data['철(㎎)'].sum()"
   ]
  },
  {
   "cell_type": "code",
   "execution_count": 35,
   "metadata": {},
   "outputs": [
    {
     "name": "stderr",
     "output_type": "stream",
     "text": [
      "C:\\Users\\SSO\\AppData\\Local\\Temp\\ipykernel_25760\\1093907821.py:2: PerformanceWarning: DataFrame is highly fragmented.  This is usually the result of calling `frame.insert` many times, which has poor performance.  Consider joining all columns at once using pd.concat(axis=1) instead. To get a de-fragmented frame, use `newframe = frame.copy()`\n",
      "  data['철'] = data['철(㎎)'] + data['철(㎍)']\n"
     ]
    }
   ],
   "source": [
    "data['철(㎍)'] = data['철(㎍)']*0.001\n",
    "data['철'] = data['철(㎎)'] + data['철(㎍)']\n"
   ]
  },
  {
   "cell_type": "code",
   "execution_count": 36,
   "metadata": {},
   "outputs": [
    {
     "data": {
      "text/plain": [
       "0        0.003380\n",
       "1        0.001510\n",
       "2        0.015974\n",
       "3        0.015184\n",
       "4        0.001470\n",
       "5        2.590000\n",
       "6        5.160000\n",
       "7     1375.410000\n",
       "8        0.790000\n",
       "9        1.070000\n",
       "10       3.860000\n",
       "11       0.660000\n",
       "12       0.190000\n",
       "13       0.180000\n",
       "14       2.570000\n",
       "15     383.330000\n",
       "16       0.710000\n",
       "17       2.430000\n",
       "18       0.430000\n",
       "19       0.440000\n",
       "Name: 철, dtype: float64"
      ]
     },
     "execution_count": 36,
     "metadata": {},
     "output_type": "execute_result"
    }
   ],
   "source": [
    "data['철'].head(20)"
   ]
  },
  {
   "cell_type": "code",
   "execution_count": 37,
   "metadata": {},
   "outputs": [],
   "source": [
    "data = data.drop(columns=['철(㎎)', '철(㎍)'])"
   ]
  },
  {
   "cell_type": "code",
   "execution_count": 38,
   "metadata": {},
   "outputs": [],
   "source": [
    "data = data.rename(columns={'철': '철(㎎)'})"
   ]
  },
  {
   "cell_type": "code",
   "execution_count": 39,
   "metadata": {},
   "outputs": [
    {
     "data": {
      "text/plain": [
       "0        0.003380\n",
       "1        0.001510\n",
       "2        0.015974\n",
       "3        0.015184\n",
       "4        0.001470\n",
       "5        2.590000\n",
       "6        5.160000\n",
       "7     1375.410000\n",
       "8        0.790000\n",
       "9        1.070000\n",
       "10       3.860000\n",
       "11       0.660000\n",
       "12       0.190000\n",
       "13       0.180000\n",
       "14       2.570000\n",
       "15     383.330000\n",
       "16       0.710000\n",
       "17       2.430000\n",
       "18       0.430000\n",
       "19       0.440000\n",
       "Name: 철(㎎), dtype: float64"
      ]
     },
     "execution_count": 39,
     "metadata": {},
     "output_type": "execute_result"
    }
   ],
   "source": [
    "data['철(㎎)'].head(20)"
   ]
  },
  {
   "cell_type": "code",
   "execution_count": 40,
   "metadata": {},
   "outputs": [],
   "source": [
    "data['EPA+DHA(g)'] = data['에이코사펜타에노산(20:5(n-3))(g)'] + data['도코사헥사에노산(22:6(n-3))(g)']\n",
    "data['비타민 A(μg RAE)'] = data['레티놀(㎍)'] + (data['베타카로틴(㎍)']/6)\n",
    "data['비타민 E(㎎ α-TE)'] = data['토코페롤(㎎)']\n",
    "data['비타민 B3(㎎)'] = data['나이아신(㎎)']\n",
    "data['메티오닌+시스테인(㎎)'] = data['메티오닌(㎎)'] + data['시스테인(㎎)']\n",
    "data['페닐알라닌+티로신(㎎)'] = data['페닐알라닌(㎎)'] + data['티로신(㎎)']"
   ]
  },
  {
   "cell_type": "code",
   "execution_count": 41,
   "metadata": {},
   "outputs": [],
   "source": [
    "change = {'리놀레산(18:2(n-6)c)(g)':'리놀레산(g)', '알파 리놀렌산(18:3(n-3))(g)':'알파-리놀렌산(g)', '비타민 D(D2+D3)(㎍)':'비타민 D(㎍)', '엽산(DFE)(㎍)':'엽산(㎍)'}\n",
    "\n",
    "data = data.rename(columns=change)"
   ]
  },
  {
   "cell_type": "code",
   "execution_count": 42,
   "metadata": {},
   "outputs": [],
   "source": [
    "data = data.dropna(axis=1, how='all')"
   ]
  },
  {
   "cell_type": "code",
   "execution_count": 44,
   "metadata": {},
   "outputs": [],
   "source": [
    "data.to_excel('../test/food_nutrient.xlsx', index=False)"
   ]
  }
 ],
 "metadata": {
  "kernelspec": {
   "display_name": "base",
   "language": "python",
   "name": "python3"
  },
  "language_info": {
   "codemirror_mode": {
    "name": "ipython",
    "version": 3
   },
   "file_extension": ".py",
   "mimetype": "text/x-python",
   "name": "python",
   "nbconvert_exporter": "python",
   "pygments_lexer": "ipython3",
   "version": "3.11.5"
  }
 },
 "nbformat": 4,
 "nbformat_minor": 2
}
